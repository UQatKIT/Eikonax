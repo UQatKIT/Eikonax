{
 "cells": [
  {
   "cell_type": "code",
   "execution_count": null,
   "metadata": {},
   "outputs": [],
   "source": [
    "from itertools import combinations, permutations\n",
    "\n",
    "list = (1, 2, 3)\n",
    "comb = combinations(list, 3)\n",
    "perm = permutations(list, 3)\n",
    "print(*comb)\n",
    "print(*perm)"
   ]
  },
  {
   "cell_type": "code",
   "execution_count": null,
   "metadata": {},
   "outputs": [],
   "source": [
    "import numpy as np\n",
    "\n",
    "arr = np.zeros((4, 3))\n",
    "\n",
    "for a in arr:\n",
    "    print(a)"
   ]
  },
  {
   "cell_type": "code",
   "execution_count": null,
   "metadata": {},
   "outputs": [],
   "source": [
    "import numpy as np\n",
    "\n",
    "arr = np.array((0, 1, 2))\n",
    "perms = ((0, 1, 2), (1, 0, 2), (2, 0, 1))\n",
    "for p in perms:\n",
    "    print(arr[p,])"
   ]
  },
  {
   "cell_type": "code",
   "execution_count": 4,
   "metadata": {},
   "outputs": [],
   "source": [
    "import numpy as np\n",
    "\n",
    "flattened_array = np.array((1,2,3,4,5,6))\n",
    "reshaped_array = np.reshape(flattened_array, (3, 2))"
   ]
  },
  {
   "cell_type": "code",
   "execution_count": null,
   "metadata": {},
   "outputs": [],
   "source": [
    "import numpy as np\n",
    "import matplotlib.pyplot as plt\n",
    "\n",
    "def boltzmann_min(args, order):\n",
    "    return np.sum(args * np.exp(-order*args), axis=0) / np.sum(np.exp(-order*args), axis=0)\n",
    "\n",
    "\n",
    "x = np.linspace(-1, 1, 1000)\n",
    "y1 = 1 + x\n",
    "y2 = 1 - x\n",
    "y_stacked = np.vstack((y1, y2))\n",
    "bmin = boltzmann_min(y_stacked, 10)\n",
    "\n",
    "plt.plot(x, y1)\n",
    "plt.plot(x, y2)\n",
    "plt.plot(x, bmin)"
   ]
  },
  {
   "cell_type": "code",
   "execution_count": null,
   "metadata": {},
   "outputs": [],
   "source": [
    "import jax.numpy as jnp\n",
    "arr1 = jnp.array(([1, 2, 3], [4, 5, 6]))\n",
    "print(arr1)\n",
    "arr2 = arr1.flatten()\n",
    "print(arr2)"
   ]
  }
 ],
 "metadata": {
  "kernelspec": {
   "display_name": "development",
   "language": "python",
   "name": "python3"
  },
  "language_info": {
   "codemirror_mode": {
    "name": "ipython",
    "version": 3
   },
   "file_extension": ".py",
   "mimetype": "text/x-python",
   "name": "python",
   "nbconvert_exporter": "python",
   "pygments_lexer": "ipython3",
   "version": "3.12.5"
  }
 },
 "nbformat": 4,
 "nbformat_minor": 2
}
