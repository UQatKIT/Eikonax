{
 "cells": [
  {
   "cell_type": "code",
   "execution_count": 1,
   "metadata": {},
   "outputs": [],
   "source": [
    "import jax\n",
    "import jax.numpy as jnp\n",
    "import matplotlib.pyplot as plt\n",
    "import seaborn as sns\n",
    "\n",
    "from eikonax import logging, solver, tensorfield, utilities\n",
    "\n",
    "sns.set_theme(style=\"ticks\")"
   ]
  },
  {
   "cell_type": "code",
   "execution_count": 2,
   "metadata": {},
   "outputs": [],
   "source": [
    "disable_jit = True\n",
    "log_compiles = False\n",
    "mesh_bounds = (-1, 1)\n",
    "num_points = 3\n",
    "dimension = 2\n",
    "\n",
    "solver_data = solver.SolverData(\n",
    "    tolerance=1e-3,\n",
    "    max_num_iterations=200,\n",
    "    loop_type=\"nonjitted_while\",\n",
    "    max_value=1000,\n",
    "    softmin_order=5,\n",
    "    drelu_order=10,\n",
    "    drelu_cutoff=10,\n",
    "    log_interval=1,\n",
    ")\n",
    "\n",
    "derivator_data = solver.DerivatorData(\n",
    "    softmin_order=5,\n",
    "    drelu_order=10,\n",
    "    drelu_cutoff=1,\n",
    ")\n",
    "\n",
    "logger_data = logging.LoggerSettings(\n",
    "    log_to_console=True,\n",
    "    logfile_path=None,\n",
    ")\n",
    "\n",
    "initial_sites = solver.InitialSites(inds=jnp.array((0,)), values=jnp.array((0,)))"
   ]
  },
  {
   "cell_type": "code",
   "execution_count": null,
   "metadata": {},
   "outputs": [],
   "source": [
    "vertices, simplices = utilities.create_test_mesh(mesh_bounds, num_points)\n",
    "adjacent_vertex_inds = utilities.get_adjacent_vertex_data(simplices, vertices.shape[0])\n",
    "parameter_vector = jnp.ones(dimension * simplices.shape[0], dtype=jnp.float32)\n",
    "\n",
    "field_data = tensorfield.LinearTensorFieldData(\n",
    "    dimension=dimension, num_simplices=simplices.shape[0]\n",
    ")\n",
    "with jax.disable_jit(disable_jit), jax.log_compiles(log_compiles):\n",
    "    tensor_field = tensorfield.LinearTensorField.assemble_field(parameter_vector, field_data)\n",
    "\n",
    "mesh_data = solver.MeshData(vertices=vertices, adjacent_vertex_inds=adjacent_vertex_inds)\n",
    "logger = logging.Logger(logger_data)\n",
    "with jax.disable_jit(disable_jit), jax.log_compiles(log_compiles):\n",
    "    solution = solver.Solver.run(tensor_field, initial_sites, mesh_data, solver_data, logger)"
   ]
  },
  {
   "cell_type": "code",
   "execution_count": null,
   "metadata": {},
   "outputs": [],
   "source": [
    "fig, ax = plt.subplots(figsize=(5, 4), layout=\"constrained\")\n",
    "ax.triplot(vertices[:, 0], vertices[:, 1], simplices)\n",
    "scatter_plot = ax.scatter(vertices[:, 0], vertices[:, 1], c=solution.values)\n",
    "plt.colorbar(scatter_plot)\n",
    "for i, vertex in enumerate(vertices):\n",
    "   ax.annotate(i, (vertex[0], vertex[1]))"
   ]
  },
  {
   "cell_type": "code",
   "execution_count": 5,
   "metadata": {},
   "outputs": [],
   "source": [
    "with jax.disable_jit(disable_jit), jax.log_compiles(log_compiles):\n",
    "    partial_solution, partial_parameter = solver.Derivator.compute_partial_derivatives(\n",
    "        solution.values, tensor_field, mesh_data, derivator_data\n",
    "    )"
   ]
  },
  {
   "cell_type": "code",
   "execution_count": 13,
   "metadata": {},
   "outputs": [
    {
     "name": "stdout",
     "output_type": "stream",
     "text": [
      "[0 0 1 2 3 4 4 5 5 6 7 7 8 8]\n",
      "[3 1 0 1 0 1 3 1 1 3 3 3 5 7]\n",
      "[0.5000046 0.4999954 1.        1.        1.        0.5000046 0.4999954\n",
      " 0.5       0.5       1.        0.5       0.5       0.5000046 0.4999954]\n"
     ]
    }
   ],
   "source": [
    "current_inds = mesh_data.adjacent_vertex_inds[:, 0, 0]\n",
    "adjacent_inds = mesh_data.adjacent_vertex_inds[:, :, 1:3]\n",
    "nonzero_mask = jnp.nonzero(partial_solution)\n",
    "\n",
    "print(current_inds[nonzero_mask[0]])\n",
    "print(adjacent_inds[nonzero_mask])\n",
    "print(partial_solution[nonzero_mask])"
   ]
  }
 ],
 "metadata": {
  "kernelspec": {
   "display_name": "development",
   "language": "python",
   "name": "python3"
  },
  "language_info": {
   "codemirror_mode": {
    "name": "ipython",
    "version": 3
   },
   "file_extension": ".py",
   "mimetype": "text/x-python",
   "name": "python",
   "nbconvert_exporter": "python",
   "pygments_lexer": "ipython3",
   "version": "3.12.5"
  }
 },
 "nbformat": 4,
 "nbformat_minor": 2
}
