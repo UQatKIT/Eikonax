{
 "cells": [
  {
   "cell_type": "code",
   "execution_count": 1,
   "metadata": {},
   "outputs": [],
   "source": [
    "import jax\n",
    "import jax.numpy as jnp\n",
    "import matplotlib.pyplot as plt\n",
    "import numpy as np\n",
    "import seaborn as sns\n",
    "\n",
    "from eikonax import corefunctions, derivator, logging, preprocessing, solver, tensorfield\n",
    "\n",
    "sns.set_theme(style=\"ticks\")"
   ]
  },
  {
   "cell_type": "code",
   "execution_count": 2,
   "metadata": {},
   "outputs": [],
   "source": [
    "disable_jit = False\n",
    "log_compiles = False\n",
    "mesh_bounds_x = (0, 1)\n",
    "mesh_bounds_y = (0, 1)\n",
    "num_points_x = 3\n",
    "num_points_y = 3\n",
    "dimension = 2\n",
    "\n",
    "solver_data = solver.SolverData(\n",
    "    tolerance=1e-8,\n",
    "    max_num_iterations=1000,\n",
    "    loop_type=\"jitted_while\",\n",
    "    max_value=1000,\n",
    "    use_soft_update=True,\n",
    "    softminmax_order=20,\n",
    "    softminmax_cutoff=1,\n",
    "    log_interval=1,\n",
    ")\n",
    "\n",
    "derivator_data = derivator.PartialDerivatorData(\n",
    "    softmin_order=20,\n",
    "    softminmax_order=20,\n",
    "    softminmax_cutoff=1,\n",
    ")\n",
    "\n",
    "logger_data = logging.LoggerSettings(\n",
    "    log_to_console=True,\n",
    "    logfile_path=None,\n",
    ")\n",
    "\n",
    "initial_sites = corefunctions.InitialSites(\n",
    "    inds=jnp.array((0,), dtype=jnp.int32), values=jnp.array((0,), dtype=jnp.float32)\n",
    ")"
   ]
  },
  {
   "cell_type": "code",
   "execution_count": 3,
   "metadata": {},
   "outputs": [],
   "source": [
    "vertices, simplices = preprocessing.create_test_mesh(\n",
    "    mesh_bounds_x, mesh_bounds_y, num_points_x, num_points_y\n",
    ")\n",
    "adjacency_data = preprocessing.get_adjacent_vertex_data(simplices, vertices.shape[0])\n",
    "vertices = jnp.array(vertices, dtype=jnp.float32)\n",
    "simplices = jnp.array(simplices, dtype=jnp.int32)\n",
    "adjacency_data = jnp.array(adjacency_data, dtype=jnp.int32)\n",
    "\n",
    "mesh_data = corefunctions.MeshData(vertices=vertices, adjacency_data=adjacency_data)\n",
    "parameter_vector = jnp.ones(simplices.shape[0], dtype=jnp.float32)\n",
    "tensor_on_simplex = tensorfield.LinearScalarSimplexTensor(dimension)\n",
    "tensor_field_mapping = tensorfield.LinearScalarMap()\n",
    "tensor_field = tensorfield.TensorField(simplices.shape[0], tensor_field_mapping, tensor_on_simplex)\n",
    "logger = logging.Logger(logger_data)"
   ]
  },
  {
   "cell_type": "code",
   "execution_count": 4,
   "metadata": {},
   "outputs": [],
   "source": [
    "with jax.disable_jit(disable_jit), jax.log_compiles(log_compiles):\n",
    "    parameter_field = tensor_field.assemble_field(parameter_vector)\n",
    "    eikonal_solver = solver.Solver(mesh_data, solver_data, initial_sites, logger)\n",
    "    solution = eikonal_solver.run(parameter_field)"
   ]
  },
  {
   "cell_type": "code",
   "execution_count": 5,
   "metadata": {},
   "outputs": [],
   "source": [
    "with jax.disable_jit(disable_jit), jax.log_compiles(log_compiles):\n",
    "    eikonax_derivator = derivator.PartialDerivator(mesh_data, derivator_data, initial_sites)\n",
    "    sparse_partial_solution, sparse_partial_tensor = eikonax_derivator.compute_partial_derivatives(\n",
    "        solution.values, parameter_field\n",
    "    )\n",
    "    derivative_solver = derivator.DerivativeSolver(solution.values, sparse_partial_solution)\n",
    "    sparse_partial_parameter = tensor_field.assemble_jacobian(\n",
    "        num_points_x * num_points_y, sparse_partial_tensor, parameter_vector\n",
    "    )"
   ]
  },
  {
   "cell_type": "code",
   "execution_count": 6,
   "metadata": {},
   "outputs": [],
   "source": [
    "rhs_adjoint_equation = np.ones(solution.values.shape, dtype=jnp.float32)\n",
    "adjoint_variable = derivative_solver.solve(rhs_adjoint_equation)\n",
    "gradient = sparse_partial_parameter.T @ adjoint_variable"
   ]
  },
  {
   "cell_type": "code",
   "execution_count": null,
   "metadata": {},
   "outputs": [],
   "source": [
    "fig, ax = plt.subplots(figsize=(5, 4), layout=\"constrained\")\n",
    "ax.triplot(vertices[:, 0], vertices[:, 1], simplices)\n",
    "scatter_plot = ax.scatter(vertices[:, 0], vertices[:, 1], c=solution.values)\n",
    "plt.colorbar(scatter_plot)\n",
    "for i, vertex in enumerate(vertices):\n",
    "    ax.annotate(i, (vertex[0], vertex[1]))\n",
    "for i, simplex in enumerate(simplices):\n",
    "    centroid = jnp.mean(vertices[simplex], axis=0)\n",
    "    ax.annotate(i, (centroid[0], centroid[1]))"
   ]
  }
 ],
 "metadata": {
  "kernelspec": {
   "display_name": "development",
   "language": "python",
   "name": "python3"
  },
  "language_info": {
   "codemirror_mode": {
    "name": "ipython",
    "version": 3
   },
   "file_extension": ".py",
   "mimetype": "text/x-python",
   "name": "python",
   "nbconvert_exporter": "python",
   "pygments_lexer": "ipython3",
   "version": "3.12.8"
  }
 },
 "nbformat": 4,
 "nbformat_minor": 2
}
